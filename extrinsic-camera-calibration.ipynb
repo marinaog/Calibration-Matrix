{
 "cells": [
  {
   "cell_type": "code",
   "execution_count": null,
   "metadata": {},
   "outputs": [],
   "source": [
    "import cv2 as cv\n",
    "import numpy as np\n",
    "import matplotlib.pyplot as plt\n"
   ]
  },
  {
   "cell_type": "markdown",
   "metadata": {},
   "source": [
    "# Extrinsic Camera Calibration"
   ]
  },
  {
   "cell_type": "markdown",
   "metadata": {},
   "source": [
    "### 1. Fill intrinsic parameters"
   ]
  },
  {
   "cell_type": "code",
   "execution_count": 2,
   "metadata": {},
   "outputs": [
    {
     "ename": "SyntaxError",
     "evalue": "invalid syntax (1428485743.py, line 2)",
     "output_type": "error",
     "traceback": [
      "\u001b[1;36m  Cell \u001b[1;32mIn[2], line 2\u001b[1;36m\u001b[0m\n\u001b[1;33m    fx =\u001b[0m\n\u001b[1;37m         ^\u001b[0m\n\u001b[1;31mSyntaxError\u001b[0m\u001b[1;31m:\u001b[0m invalid syntax\n"
     ]
    }
   ],
   "source": [
    "# In mm\n",
    "fx = \n",
    "fy = \n",
    "cx = \n",
    "cy = "
   ]
  },
  {
   "cell_type": "markdown",
   "metadata": {},
   "source": [
    "### 2. Upload the picture taken from a NAO in the center of the field looking at the goal.\n",
    "\n",
    "Example: https://ibb.co/3vHMFBp"
   ]
  },
  {
   "cell_type": "code",
   "execution_count": null,
   "metadata": {},
   "outputs": [],
   "source": [
    "img = #\"path_to_img\""
   ]
  },
  {
   "cell_type": "markdown",
   "metadata": {},
   "source": [
    "### 3. Select object points\n",
    "Choose and save points coordinates in the following order: https://ibb.co/NS1DWLB\n",
    "\n",
    "And in the following format: \n",
    "\n",
    "> Ex: \n",
    "> point_1 = [179, 361]"
   ]
  },
  {
   "cell_type": "code",
   "execution_count": null,
   "metadata": {},
   "outputs": [],
   "source": [
    "point_1 = []\n",
    "point_2 = []\n",
    "point_3 = []\n",
    "point_4 = []\n",
    "point_5 = []\n",
    "point_6 = []\n",
    "point_7 = []"
   ]
  },
  {
   "cell_type": "markdown",
   "metadata": {},
   "source": [
    "In order to look for them, run the following cell:"
   ]
  },
  {
   "cell_type": "code",
   "execution_count": null,
   "metadata": {},
   "outputs": [],
   "source": [
    "# Function to adjust X coordinate\n",
    "x_coord = 0\n",
    "y_coord = 0\n",
    "def adjust_x_coord(value):\n",
    "    global x_coord\n",
    "\n",
    "    # Get the current value of the X coordinate slider\n",
    "    x_coord = cv.getTrackbarPos('X Coord', 'Image')\n",
    "    # Draw the point on the image\n",
    "    point_image = img.copy()\n",
    "    cv.circle(point_image, (x_coord, y_coord), 2, (0, 0, 255), -1)   \n",
    "    # Show the image with the point\n",
    "    cv.imshow('Image', point_image)\n",
    "\n",
    "# Function to adjust Y coordinate\n",
    "def adjust_y_coord(value):\n",
    "    global y_coord\n",
    "    # Get the current value of the Y coordinate slider\n",
    "    y_coord = cv.getTrackbarPos('Y Coord', 'Image')\n",
    "    # Draw the point on the image\n",
    "    point_image = img.copy()\n",
    "    cv.circle(point_image, (x_coord, y_coord), 2, (0, 0, 255), -1)\n",
    "    # Show the image with the point\n",
    "    cv.imshow('Image', point_image)\n",
    "\n",
    "# Load the image\n",
    "img = cv.imread(ext_img)\n",
    "\n",
    "# Create a window\n",
    "cv.namedWindow('Image')\n",
    "\n",
    "# Create trackbars to adjust brightness, X coordinate, and Y coordinate\n",
    "cv.createTrackbar('X Coord', 'Image', 0, img.shape[1] - 1, adjust_x_coord)\n",
    "cv.createTrackbar('Y Coord', 'Image', 0, img.shape[0] - 1, adjust_y_coord)\n",
    "\n",
    "# Display the original image\n",
    "cv.imshow('Image', img)\n",
    "\n",
    "# Wait for the user to press any key\n",
    "cv.waitKey(0)\n",
    "cv.destroyAllWindows()"
   ]
  },
  {
   "cell_type": "markdown",
   "metadata": {},
   "source": [
    "### 4. Check your points\n",
    "\n",
    "Visualize the points you chose running the following cell: "
   ]
  },
  {
   "cell_type": "code",
   "execution_count": null,
   "metadata": {},
   "outputs": [],
   "source": [
    "img_pts = [point_1,point_2,point_3,point_4,point_5,point_6,point_7]  \n",
    "img_show = cv.imread(img)\n",
    "colors = [(255,0,0), (0, 255, 0), (0,0,255), (255,255,0), (128,0,128),  (255, 255, 255), (0,0,0)]\n",
    "\n",
    "for point, color in zip(img_pts, colors):\n",
    "    cv.circle(img_show, point, 4, color, -1)  \n",
    "\n",
    "plt.imshow(img_show)"
   ]
  },
  {
   "cell_type": "markdown",
   "metadata": {},
   "source": [
    "### 5. Compute extrinsic parameters\n",
    "\n",
    "We assume **mm** and the following coordinates system: https://ibb.co/g3rvP77"
   ]
  },
  {
   "cell_type": "code",
   "execution_count": null,
   "metadata": {},
   "outputs": [],
   "source": [
    "intrinsic_mat = np.array([\n",
    "            [fx, 0, cx], \n",
    "            [0, fy, cy],\n",
    "            [0, 0, 1]], dtype=np.float32)\n",
    "\n",
    "object_points = np.array([\n",
    "    [ 3900,1100, -550], \n",
    "    [4500, 1100,  -550], \n",
    "    [4500, -1100,  -550], \n",
    "    [3900, -1100, -550], \n",
    "    [3200, 0,  -550], \n",
    "    [4500, 750, -550], \n",
    "    [4500, -750,  -550]\n",
    "    ], dtype=np.float32)\n",
    "\n",
    "\n",
    "image_points = np.array(img_pts, dtype=np.float32)\n",
    "\n",
    "# Assuming no distorsion\n",
    "dist_coeffs = np.zeros((4, 1), dtype=np.float32)\n",
    "\n",
    "success, rotation_vector, translation_vector = cv.solvePnP(\n",
    "    object_points,\n",
    "    image_points,\n",
    "    intrinsic_mat,\n",
    "    dist_coeffs\n",
    ")\n",
    "\n",
    "# Check if the solution was found\n",
    "if success:\n",
    "    print(\"Rotation Vector:\\n\", rotation_vector)\n",
    "    print(\"Translation Vector:\\n\", translation_vector)\n",
    "else:\n",
    "    print(\"Could not solve for pose.\")"
   ]
  }
 ],
 "metadata": {
  "kernelspec": {
   "display_name": "dl2023",
   "language": "python",
   "name": "python3"
  },
  "language_info": {
   "codemirror_mode": {
    "name": "ipython",
    "version": 3
   },
   "file_extension": ".py",
   "mimetype": "text/x-python",
   "name": "python",
   "nbconvert_exporter": "python",
   "pygments_lexer": "ipython3",
   "version": "3.11.5"
  }
 },
 "nbformat": 4,
 "nbformat_minor": 2
}
